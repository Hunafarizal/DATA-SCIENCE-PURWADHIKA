{
 "cells": [
  {
   "cell_type": "code",
   "execution_count": 3,
   "metadata": {},
   "outputs": [
    {
     "name": "stdout",
     "output_type": "stream",
     "text": [
      "The odd-numbered characters of your name are: HNFRZLQI\n"
     ]
    }
   ],
   "source": [
    "def get_odd_characters(name):\n",
    "    return name[::2]\n",
    "\n",
    "full_name = input(\"Enter your full name: \")\n",
    "odd_characters = get_odd_characters(full_name)\n",
    "\n",
    "print(f\"The odd-numbered characters of your name are: {odd_characters}\")\n"
   ]
  }
 ],
 "metadata": {
  "kernelspec": {
   "display_name": "Python 3",
   "language": "python",
   "name": "python3"
  },
  "language_info": {
   "codemirror_mode": {
    "name": "ipython",
    "version": 3
   },
   "file_extension": ".py",
   "mimetype": "text/x-python",
   "name": "python",
   "nbconvert_exporter": "python",
   "pygments_lexer": "ipython3",
   "version": "3.11.5"
  }
 },
 "nbformat": 4,
 "nbformat_minor": 2
}
