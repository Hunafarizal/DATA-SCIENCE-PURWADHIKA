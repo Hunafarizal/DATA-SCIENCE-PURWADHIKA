{
 "cells": [
  {
   "cell_type": "code",
   "execution_count": 59,
   "metadata": {},
   "outputs": [],
   "source": [
    "\n",
    "def factorial(angka) :\n",
    "\n",
    "    if angka == 0 :\n",
    "        return 1\n",
    "    elif angka < 0 :\n",
    "        return None\n",
    "    else :\n",
    "        return angka * factorial(angka - 1)\n",
    "    \n",
    "\n",
    "assert factorial(0) == 1\n",
    "assert factorial(3) == 6\n",
    "assert factorial(10) == 3628800\n",
    "assert factorial(-10) == None\n",
    "\n",
    "\n"
   ]
  },
  {
   "cell_type": "code",
   "execution_count": 44,
   "metadata": {},
   "outputs": [],
   "source": [
    "def timeConvert(totalSeconds):\n",
    "    hours = totalSeconds // 3600\n",
    "    minutes = (totalSeconds % 3600) // 60\n",
    "    seconds = totalSeconds % 60\n",
    "    \n",
    "    \n",
    "    result = \"\"\n",
    "    \n",
    "    if hours > 0:\n",
    "        result += f\"{hours}h \"\n",
    "    \n",
    "    if minutes > 0:\n",
    "        result += f\"{minutes}m \"\n",
    "    \n",
    "    if seconds > 0 or not result:\n",
    "        result += f\"{seconds}s\"\n",
    "    \n",
    "    return result.strip()\n",
    "\n",
    "\n",
    "assert timeConvert(0) == '0s'\n",
    "assert timeConvert(30) == '30s'\n",
    "assert timeConvert(60) == '1m'\n",
    "assert timeConvert(90) == '1m 30s'\n",
    "assert timeConvert(3600) == '1h'\n",
    "assert timeConvert(3601) == '1h 1s'\n",
    "assert timeConvert(3661) == '1h 1m 1s'\n",
    "assert timeConvert(90042) == '25h 42s'\n",
    "\n"
   ]
  },
  {
   "cell_type": "code",
   "execution_count": 93,
   "metadata": {},
   "outputs": [],
   "source": [
    "def area(L, W):\n",
    "\n",
    "    return L * W\n",
    "\n",
    "def volume(L, W, H):\n",
    "   \n",
    "    return L * W * H\n",
    "\n",
    "\n",
    "assert area(10, 10) == 100\n",
    "assert area(0, 9999) == 0\n",
    "assert volume(10, 10, 10) == 1000\n",
    "assert volume(5, 8, 10) == 400\n"
   ]
  },
  {
   "cell_type": "code",
   "execution_count": 101,
   "metadata": {},
   "outputs": [],
   "source": [
    "def getColor(column, row):\n",
    "   \n",
    "    \n",
    "    if 0 <= column <= 7 and 0 <= row <= 7:\n",
    "        \n",
    "        if (column + row) % 2 == 0:\n",
    "            return 'white'\n",
    "        else:\n",
    "            return 'black'\n",
    "    else:\n",
    "        \n",
    "        return ''\n",
    "\n",
    "\n",
    "assert getColor(1, 1) == 'white'\n",
    "assert getColor(2, 1) == 'black'\n",
    "assert getColor(1, 2) == 'black'\n",
    "assert getColor(7, 7) == 'white'\n",
    "assert getColor(8, 8) == ''\n",
    "assert getColor(0, 8) == ''\n",
    "assert getColor(2, 9) == ''\n"
   ]
  },
  {
   "cell_type": "code",
   "execution_count": 8,
   "metadata": {},
   "outputs": [
    {
     "name": "stdout",
     "output_type": "stream",
     "text": [
      "QIIX QI FC XLI VSWI FYWLIW XSRMKLX.\n"
     ]
    }
   ],
   "source": [
    "def encrypthor(message, key=4):\n",
    "    alphabet = 'abcdefghijklmnopqrstuvwxyz'\n",
    "    encrypted_message = \"\"\n",
    "\n",
    "    for char in message.lower():\n",
    "        if char in alphabet:\n",
    "            index = (alphabet.index(char) + key) % 26\n",
    "            encrypted_char = alphabet[index].upper()\n",
    "            encrypted_message += encrypted_char\n",
    "        else:\n",
    "            encrypted_message += char\n",
    "\n",
    "    return encrypted_message\n",
    "\n",
    "perintah = 'Meet me by the rose bushes tonight.'\n",
    "encrypted_message = encrypthor(perintah)\n",
    "print(encrypted_message)\n"
   ]
  },
  {
   "cell_type": "code",
   "execution_count": 41,
   "metadata": {},
   "outputs": [],
   "source": [
    "\n",
    "def isLeapYear(year):\n",
    "    \n",
    "    if year % 4 == 0:\n",
    "    \n",
    "        if year % 100 == 0 and year % 400 != 0:\n",
    "            return False\n",
    "        return True\n",
    "    return False\n",
    "\n",
    "\n",
    "\n",
    "assert isLeapYear(1999) == False\n",
    "assert isLeapYear(2000) == True\n",
    "assert isLeapYear(2001) == False\n",
    "assert isLeapYear(2004) == True\n",
    "assert isLeapYear(2100) == False\n",
    "assert isLeapYear(2400) == True\n",
    "    "
   ]
  },
  {
   "cell_type": "code",
   "execution_count": 49,
   "metadata": {},
   "outputs": [],
   "source": [
    "def isValidDate(year, month, day):\n",
    "    if 1 <= month <= 12:\n",
    "        if month == 2:\n",
    "            if day > 28 + (1 if year % 4 == 0 and (year % 100 != 0 or year % 400 == 0) else 0):\n",
    "                return False\n",
    "        elif month in {4, 6, 9, 11} and day > 30:\n",
    "            return False\n",
    "        elif day > 31:\n",
    "            return False\n",
    "        return True\n",
    "    return False\n",
    "\n",
    "assert isValidDate(2001, 2, 29) == False\n",
    "assert isValidDate(2029, 13, 1) == False\n",
    "assert isValidDate(1000000, 1, 1) == True\n",
    "assert isValidDate(2015, 4, 31) == False\n"
   ]
  },
  {
   "cell_type": "code",
   "execution_count": 57,
   "metadata": {},
   "outputs": [],
   "source": [
    "def commaFormat(number):\n",
    "    num_str = str(number)\n",
    "\n",
    "    floatnumber = num_str.split('.')\n",
    "    \n",
    "    normalnumber = '{:,}'.format(int(floatnumber[0]))\n",
    "   \n",
    "    if len(floatnumber) > 1:\n",
    "        finalnumber = '{}.{}'.format(normalnumber, floatnumber[1])\n",
    "    else:\n",
    "        finalnumber = normalnumber\n",
    "\n",
    "    return finalnumber\n",
    "\n",
    "assert commaFormat(1) == '1'\n",
    "assert commaFormat(10) == '10'\n",
    "assert commaFormat(100) == '100'\n",
    "assert commaFormat(1000) == '1,000'\n",
    "assert commaFormat(10000) == '10,000'\n",
    "assert commaFormat(100000) == '100,000'\n",
    "assert commaFormat(1000000) == '1,000,000'\n",
    "assert commaFormat(1234567890) == '1,234,567,890'\n",
    "assert commaFormat(1000.123456) == '1,000.123456'\n",
    "\n"
   ]
  }
 ],
 "metadata": {
  "kernelspec": {
   "display_name": "base",
   "language": "python",
   "name": "python3"
  },
  "language_info": {
   "codemirror_mode": {
    "name": "ipython",
    "version": 3
   },
   "file_extension": ".py",
   "mimetype": "text/x-python",
   "name": "python",
   "nbconvert_exporter": "python",
   "pygments_lexer": "ipython3",
   "version": "3.11.5"
  }
 },
 "nbformat": 4,
 "nbformat_minor": 2
}
