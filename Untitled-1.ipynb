{
 "cells": [
  {
   "cell_type": "code",
   "execution_count": 2,
   "metadata": {},
   "outputs": [
    {
     "name": "stdout",
     "output_type": "stream",
     "text": [
      "0.6944444444444445\n"
     ]
    },
    {
     "data": {
      "text/plain": [
       "0.694"
      ]
     },
     "execution_count": 2,
     "metadata": {},
     "output_type": "execute_result"
    }
   ],
   "source": [
    "x, y, z = 4, 3, 2\n",
    "w=((x+y*z)/(x*y))**z\n",
    "print(w)\n",
    "round(w, 3)"
   ]
  },
  {
   "cell_type": "code",
   "execution_count": 3,
   "metadata": {},
   "outputs": [
    {
     "name": "stdout",
     "output_type": "stream",
     "text": [
      "16\n"
     ]
    }
   ],
   "source": [
    "x = input('please input number :')\n",
    "print(int(x)**2)\n"
   ]
  },
  {
   "cell_type": "code",
   "execution_count": 5,
   "metadata": {},
   "outputs": [
    {
     "name": "stdout",
     "output_type": "stream",
     "text": [
      "485 = 1 Tahun, 4 Bulan, 0 Minggu, 5 Hari\n"
     ]
    }
   ],
   "source": [
    "totalday = 485\n",
    "year = totalday//360\n",
    "month = (totalday % 360) // 30\n",
    "week = (totalday % 360 % 30) // 7\n",
    "day = totalday % 360 % 30 % 7\n",
    "print(f'{totalday} = {year} Tahun, {month} Bulan, {week} Minggu, {day} Hari')\n"
   ]
  },
  {
   "cell_type": "code",
   "execution_count": 8,
   "metadata": {},
   "outputs": [
    {
     "name": "stdout",
     "output_type": "stream",
     "text": [
      "Dua tahun lagi umur Andi 16 tahun, Budi 37 tahun\n"
     ]
    }
   ],
   "source": [
    "A = 2/7 * 49\n",
    "B = 5/7 * 49\n",
    "\n",
    "print(f'Dua tahun lagi umur Andi {int(A+2)} tahun, Budi {int(B+2)} tahun')"
   ]
  },
  {
   "cell_type": "code",
   "execution_count": null,
   "metadata": {},
   "outputs": [],
   "source": [
    "Jarak = 120\n",
    "A = 60\n",
    "B = 40\n",
    "Tstart = 9\n",
    "\n",
    "Waktu = Jarak / (A + B)"
   ]
  },
  {
   "cell_type": "code",
   "execution_count": 9,
   "metadata": {},
   "outputs": [
    {
     "name": "stdout",
     "output_type": "stream",
     "text": [
      "Car A and Car B will collide at approximately 10.20 AM.\n"
     ]
    }
   ],
   "source": [
    "def time_to_collision(distance, speed_a, speed_b):\n",
    "    relative_speed = speed_a + speed_b\n",
    "    time = distance / relative_speed\n",
    "    return time\n",
    "\n",
    "# Given data\n",
    "distance = 120  # in kilometers\n",
    "speed_a = 60  # in km/h for car A\n",
    "speed_b = 40  # in km/h for car B\n",
    "\n",
    "collision_time = time_to_collision(distance, speed_a, speed_b)\n",
    "\n",
    "# Adding the collision time to the starting time (9 AM)\n",
    "start_time = 9  # in hours\n",
    "collision_hour = start_time + collision_time\n",
    "\n",
    "# Convert the time to 12-hour format\n",
    "collision_hour %= 12\n",
    "\n",
    "print(f\"Car A and Car B will collide at approximately {collision_hour:.2f} AM.\")\n"
   ]
  }
 ],
 "metadata": {
  "kernelspec": {
   "display_name": "base",
   "language": "python",
   "name": "python3"
  },
  "language_info": {
   "codemirror_mode": {
    "name": "ipython",
    "version": 3
   },
   "file_extension": ".py",
   "mimetype": "text/x-python",
   "name": "python",
   "nbconvert_exporter": "python",
   "pygments_lexer": "ipython3",
   "version": "3.11.5"
  }
 },
 "nbformat": 4,
 "nbformat_minor": 2
}
