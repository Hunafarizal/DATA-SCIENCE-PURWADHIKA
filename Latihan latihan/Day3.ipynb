{
 "cells": [
  {
   "cell_type": "code",
   "execution_count": 5,
   "metadata": {},
   "outputs": [
    {
     "name": "stdout",
     "output_type": "stream",
     "text": [
      "ganjil\n"
     ]
    }
   ],
   "source": [
    "# Q1\n",
    "\n",
    "num = 7\n",
    "\n",
    "if num%2 == 0 :\n",
    "    print('genap')\n",
    "else:\n",
    "    print('ganjil')\n",
    "\n"
   ]
  },
  {
   "cell_type": "code",
   "execution_count": 9,
   "metadata": {},
   "outputs": [
    {
     "name": "stdout",
     "output_type": "stream",
     "text": [
      "ideal\n"
     ]
    }
   ],
   "source": [
    "# Q2\n",
    "\n",
    "massa = 60\n",
    "tinggi = 165\n",
    "\n",
    "IMT = massa/(tinggi/100)**2\n",
    "if IMT <= 18.5:\n",
    "    print('kurang')\n",
    "elif 18.5 <= IMT <= 24.9 :\n",
    "    print('ideal')\n",
    "elif 25.0 <= IMT <= 29.9 :\n",
    "    print('berlebih')\n",
    "elif 30.0 <= IMT <= 39.9 :\n",
    "    print('sangat berlebih')\n",
    "else :\n",
    "    print('obesitas')\n"
   ]
  },
  {
   "cell_type": "code",
   "execution_count": 11,
   "metadata": {},
   "outputs": [
    {
     "name": "stdout",
     "output_type": "stream",
     "text": [
      "IMT anda 22.03856749311295, IDEAL\n"
     ]
    }
   ],
   "source": [
    "#Q2 cara lain\n",
    "\n",
    "massa = 60\n",
    "tinggi = 165\n",
    "\n",
    "IMT = massa/(tinggi/100)**2\n",
    "if IMT <= 18.5:\n",
    "    label = 'kurang'\n",
    "elif 18.5 <= IMT <= 24.9 :\n",
    "    label = 'ideal'\n",
    "elif 25.0 <= IMT <= 29.9 :\n",
    "    label = 'berlebih'\n",
    "elif 30.0 <= IMT <= 39.9 :\n",
    "    label = 'sangat berlebih'\n",
    "else :\n",
    "    label = 'obesitas'\n",
    "\n",
    "print(f'IMT anda {IMT}, {label.upper()}')"
   ]
  },
  {
   "cell_type": "code",
   "execution_count": 21,
   "metadata": {},
   "outputs": [
    {
     "name": "stdout",
     "output_type": "stream",
     "text": [
      "* * * * * \n",
      "* * * * \n",
      "* * * \n",
      "* * \n",
      "* \n",
      "* * \n",
      "* * * \n",
      "* * * * \n",
      "* * * * * \n",
      "\n"
     ]
    }
   ],
   "source": [
    "#Q3 \n",
    "\n",
    "star = ''\n",
    "size = 5\n",
    "\n",
    "for i in range(size):\n",
    "    for i in range(size - i):\n",
    "        star += '* '\n",
    "    star += '\\n'\n",
    "\n",
    "for i in range(size - 1):\n",
    "    for i in range(i + 2):\n",
    "        star += '* '\n",
    "    star += '\\n'\n",
    "\n",
    "print(star)"
   ]
  },
  {
   "cell_type": "code",
   "execution_count": 4,
   "metadata": {},
   "outputs": [
    {
     "name": "stdout",
     "output_type": "stream",
     "text": [
      "         *        \n",
      "       * * *      \n",
      "     * * * * *    \n",
      "   * * * * * * *  \n",
      " * * * * * * * * *\n",
      "   * * * * * * *  \n",
      "     * * * * *    \n",
      "       * * *      \n",
      "         *        \n"
     ]
    }
   ],
   "source": [
    "size = 9\n",
    "\n",
    "for i in range(1, size + 1, 2):\n",
    "    space = \"  \" * ((size - i) // 2)\n",
    "    star = \" *\" * i\n",
    "    print(space + star + space)\n",
    "\n",
    "for i in range(size - 2, 0, -2):\n",
    "    space = \"  \" * ((size - i) // 2)\n",
    "    star = \" *\" * i\n",
    "    print(space + star + space)"
   ]
  },
  {
   "cell_type": "code",
   "execution_count": 1,
   "metadata": {},
   "outputs": [
    {
     "name": "stdout",
     "output_type": "stream",
     "text": [
      "Jumlah pesanan tidak terpenuhi, stock Apel sisa 5\n",
      "Jumlah pesanan tidak terpenuhi, stock Apel sisa 5\n",
      "\n",
      "Detail Belanjaan\n",
      "        \n",
      "    Apel : 5 x 10000 = 50000\n",
      "    Jeruk : 1 x 15000 = 15000\n",
      "    Anggur : 1 x 20000 = 20000\n",
      "        \n",
      "    Total : 85000\n",
      "    \n",
      "\n",
      "Terima kasih\n",
      "Uang kembalian Anda sebesar 5000\n",
      "\n"
     ]
    }
   ],
   "source": [
    "\n",
    "#Q4\n",
    "\n",
    "# Mendefinisikan harga buah\n",
    "price_apel = 10000\n",
    "price_jeruk = 15000\n",
    "price_anggur = 20000\n",
    "\n",
    "# Mendefinisikan stock buah\n",
    "stock_apel = 5\n",
    "stock_jeruk = 10\n",
    "stock_anggur = 7\n",
    "\n",
    "while True:\n",
    "\n",
    "    # Meminta input jumlah apel yang dibeli kepada user\n",
    "    while True:\n",
    "        n_apel = int(input('Masukkan jumlah apel: '))\n",
    "        if n_apel > stock_apel:\n",
    "            print(f'Jumlah pesanan tidak terpenuhi, stock Apel sisa {stock_apel}')\n",
    "        else:\n",
    "            break\n",
    "\n",
    "    # Meminta input jumlah jeruk yang dibeli kepada user\n",
    "    while True:\n",
    "        n_jeruk = int(input('Masukkan jumlah jeruk: '))\n",
    "        if n_jeruk > stock_jeruk:\n",
    "            print(f'Jumlah pesanan tidak terpenuhi, stock Jeruk sisa {stock_jeruk}')\n",
    "        else:\n",
    "            break\n",
    "\n",
    "    # Meminta input jumlah anggur yang dibeli kepada user\n",
    "    while True:\n",
    "        n_anggur = int(input('Masukkan jumlah anggur: '))\n",
    "        if n_anggur > stock_anggur:\n",
    "            print(f'Jumlah pesanan tidak terpenuhi, stock Anggur sisa {stock_anggur}')\n",
    "        else:\n",
    "            break\n",
    "\n",
    "    # Menghitung total belanjaan per buah\n",
    "    total_apel = n_apel * price_apel\n",
    "    total_jeruk = n_jeruk * price_jeruk\n",
    "    total_anggur = n_anggur * price_anggur\n",
    "\n",
    "    # Menghitung total belanjaan\n",
    "    total = total_apel + total_jeruk + total_anggur\n",
    "\n",
    "    # Show\n",
    "    print(f'''\\nDetail Belanjaan\n",
    "        \n",
    "    Apel : {n_apel} x {price_apel} = {total_apel}\n",
    "    Jeruk : {n_jeruk} x {price_jeruk} = {total_jeruk}\n",
    "    Anggur : {n_anggur} x {price_anggur} = {total_anggur}\n",
    "        \n",
    "    Total : {total}\n",
    "    ''')\n",
    "\n",
    "    # Melakukan pembayaran\n",
    "    while True:\n",
    "        bayar = int(input('Silahkan masukkan uang Anda:'))\n",
    "        if bayar >= total:\n",
    "            print('\\nTerima kasih')\n",
    "            print(f'Uang kembalian Anda sebesar {bayar - total}\\n')\n",
    "            break\n",
    "        else:\n",
    "            print(f'\\nUang anda kurang sebesar {total - bayar}\\n')\n",
    "        \n",
    "    # Update stock buah\n",
    "    stock_apel -= n_apel\n",
    "    stock_jeruk -= n_jeruk\n",
    "    stock_anggur -= n_anggur\n",
    "\n",
    "    # Konfirmasi belanja ulang\n",
    "    konfirmasi = input('Apakah akan melakukan belanja lagi?: ')\n",
    "    if konfirmasi == 'no':\n",
    "        break\n",
    "\n",
    "\n"
   ]
  }
 ],
 "metadata": {
  "kernelspec": {
   "display_name": "base",
   "language": "python",
   "name": "python3"
  },
  "language_info": {
   "codemirror_mode": {
    "name": "ipython",
    "version": 3
   },
   "file_extension": ".py",
   "mimetype": "text/x-python",
   "name": "python",
   "nbconvert_exporter": "python",
   "pygments_lexer": "ipython3",
   "version": "3.11.5"
  }
 },
 "nbformat": 4,
 "nbformat_minor": 2
}
