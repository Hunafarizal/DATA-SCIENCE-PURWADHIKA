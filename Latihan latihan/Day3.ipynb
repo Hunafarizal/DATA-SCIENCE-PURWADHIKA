{
 "cells": [
  {
   "cell_type": "code",
   "execution_count": 5,
   "metadata": {},
   "outputs": [
    {
     "name": "stdout",
     "output_type": "stream",
     "text": [
      "ganjil\n"
     ]
    }
   ],
   "source": [
    "# Q1\n",
    "\n",
    "num = 7\n",
    "\n",
    "if num%2 == 0 :\n",
    "    print('genap')\n",
    "else:\n",
    "    print('ganjil')\n",
    "\n"
   ]
  },
  {
   "cell_type": "code",
   "execution_count": 9,
   "metadata": {},
   "outputs": [
    {
     "name": "stdout",
     "output_type": "stream",
     "text": [
      "ideal\n"
     ]
    }
   ],
   "source": [
    "# Q2\n",
    "\n",
    "massa = 60\n",
    "tinggi = 165\n",
    "\n",
    "IMT = massa/(tinggi/100)**2\n",
    "if IMT <= 18.5:\n",
    "    print('kurang')\n",
    "elif 18.5 <= IMT <= 24.9 :\n",
    "    print('ideal')\n",
    "elif 25.0 <= IMT <= 29.9 :\n",
    "    print('berlebih')\n",
    "elif 30.0 <= IMT <= 39.9 :\n",
    "    print('sangat berlebih')\n",
    "else :\n",
    "    print('obesitas')\n"
   ]
  },
  {
   "cell_type": "code",
   "execution_count": 11,
   "metadata": {},
   "outputs": [
    {
     "name": "stdout",
     "output_type": "stream",
     "text": [
      "IMT anda 22.03856749311295, IDEAL\n"
     ]
    }
   ],
   "source": [
    "#Q2 cara lain\n",
    "\n",
    "massa = 60\n",
    "tinggi = 165\n",
    "\n",
    "IMT = massa/(tinggi/100)**2\n",
    "if IMT <= 18.5:\n",
    "    label = 'kurang'\n",
    "elif 18.5 <= IMT <= 24.9 :\n",
    "    label = 'ideal'\n",
    "elif 25.0 <= IMT <= 29.9 :\n",
    "    label = 'berlebih'\n",
    "elif 30.0 <= IMT <= 39.9 :\n",
    "    label = 'sangat berlebih'\n",
    "else :\n",
    "    label = 'obesitas'\n",
    "\n",
    "print(f'IMT anda {IMT}, {label.upper()}')"
   ]
  },
  {
   "cell_type": "code",
   "execution_count": 21,
   "metadata": {},
   "outputs": [
    {
     "name": "stdout",
     "output_type": "stream",
     "text": [
      "* * * * * \n",
      "* * * * \n",
      "* * * \n",
      "* * \n",
      "* \n",
      "* * \n",
      "* * * \n",
      "* * * * \n",
      "* * * * * \n",
      "\n"
     ]
    }
   ],
   "source": [
    "#Q3 \n",
    "\n",
    "star = ''\n",
    "size = 5\n",
    "\n",
    "for i in range(size):\n",
    "    for i in range(size - i):\n",
    "        star += '* '\n",
    "    star += '\\n'\n",
    "\n",
    "for i in range(size - 1):\n",
    "    for i in range(i + 2):\n",
    "        star += '* '\n",
    "    star += '\\n'\n",
    "\n",
    "print(star)"
   ]
  },
  {
   "cell_type": "code",
   "execution_count": null,
   "metadata": {},
   "outputs": [],
   "source": [
    "#Q4\n",
    "\n",
    "\n",
    "\n"
   ]
  }
 ],
 "metadata": {
  "kernelspec": {
   "display_name": "base",
   "language": "python",
   "name": "python3"
  },
  "language_info": {
   "codemirror_mode": {
    "name": "ipython",
    "version": 3
   },
   "file_extension": ".py",
   "mimetype": "text/x-python",
   "name": "python",
   "nbconvert_exporter": "python",
   "pygments_lexer": "ipython3",
   "version": "3.11.5"
  }
 },
 "nbformat": 4,
 "nbformat_minor": 2
}
