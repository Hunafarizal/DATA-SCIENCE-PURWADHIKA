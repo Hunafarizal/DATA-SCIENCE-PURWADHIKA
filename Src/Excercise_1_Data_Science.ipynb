{
 "cells": [
  {
   "cell_type": "markdown",
   "metadata": {},
   "source": [
    "EXCERCISE 1-7 DATA SCIENCE"
   ]
  },
  {
   "cell_type": "code",
   "execution_count": 1,
   "metadata": {},
   "outputs": [
    {
     "name": "stdout",
     "output_type": "stream",
     "text": [
      "Panjang huruf nama pertama anda adalah :0\n"
     ]
    }
   ],
   "source": [
    "def Panjang_Huruf_Nama(Hunafa_Rizal_Aqli) :\n",
    "    return len(Hunafa_Rizal_Aqli.split()[0]) if Hunafa_Rizal_Aqli else 0\n",
    "\n",
    "\n",
    "Hunafa_Rizal_Aqli = input('Silahkan Tulis Nama:')\n",
    "\n",
    "result = Panjang_Huruf_Nama(Hunafa_Rizal_Aqli)\n",
    "\n",
    "print(f'Panjang huruf nama pertama anda adalah :{result}')\n",
    "      "
   ]
  },
  {
   "cell_type": "code",
   "execution_count": null,
   "metadata": {},
   "outputs": [],
   "source": [
    "def Urutan_Ganjil_Huruf(Nama):\n",
    "     a = Nama[::2]\n",
    "     return a\n",
    "\n",
    "Nama_lengkap = input('Masukkan nama lengkap anda :')\n",
    "Hasil = Urutan_Ganjil_Huruf(Nama_lengkap)\n",
    "\n",
    "print(f'Urutan Ganjil Huruf dari nama anda adalah : {Hasil}') "
   ]
  },
  {
   "cell_type": "code",
   "execution_count": 10,
   "metadata": {},
   "outputs": [
    {
     "name": "stdout",
     "output_type": "stream",
     "text": [
      "Original Number : 4567 \\ Sum of Digit : 22 \\ Result : 4589\n",
      "Reversed Number : 7654\n"
     ]
    }
   ],
   "source": [
    "def addsumandreverse (number, reverseoption=False) :\n",
    "    digitsum = sum(int(digit) for digit in str(number))\n",
    "\n",
    "    result = number + digitsum\n",
    "\n",
    "    reversenumber = int(str(number)[::-1]) if reverseoption else None\n",
    "\n",
    "    return number, digitsum, result, reversenumber\n",
    "\n",
    "fourdigitnumber = int(input('input 4 digit number :'))\n",
    "reverseoption = input('reverse the number? (yes/no) :').lower() == 'yes'\n",
    "\n",
    "original, digitsum, result, reservenumber = addsumandreverse(fourdigitnumber, reverseoption)\n",
    "\n",
    "if original :\n",
    "    print(f'Original Number : {original} \\ Sum of Digit : {digitsum} \\ Result : {result}')\n",
    "    print(f'Reversed Number : {reservenumber}') if reservenumber else None \n",
    "      \n",
    "\n",
    "    "
   ]
  },
  {
   "cell_type": "code",
   "execution_count": 6,
   "metadata": {},
   "outputs": [
    {
     "name": "stdout",
     "output_type": "stream",
     "text": [
      "Slope: 2.0 \\ Distance : 2.236\n"
     ]
    }
   ],
   "source": [
    "import math\n",
    "\n",
    "def Euclidslope(x1, y1, x2, y2) :\n",
    "    slope = (y2 - y1) / (x2 - x1) if x1 !=x2 else None\n",
    "    distance = math.sqrt((x2 - x1)**2 + (y2 - y1)**2)\n",
    "    return slope, distance\n",
    "\n",
    "x1, y1 = float(input('Isi X1 :')), float(input('Isi Y1 :'))\n",
    "x2, y2 = float(input('Isi X2 :')), float(input('Isi Y2 :'))\n",
    "\n",
    "slope, distance = Euclidslope(x1, y1, x2, y2)\n",
    "\n",
    "\n",
    "print(f'Slope: {slope} \\ Distance : {round(distance, 3)}')\n",
    "\n",
    "\n",
    "\n",
    "\n",
    "\n",
    "    \n",
    "\n",
    "\n"
   ]
  },
  {
   "cell_type": "code",
   "execution_count": 16,
   "metadata": {},
   "outputs": [
    {
     "name": "stdout",
     "output_type": "stream",
     "text": [
      "Hasil nya adalah : dhiwa purka\n"
     ]
    }
   ],
   "source": [
    "def Stringresult(str1, str2) :\n",
    "    return f'{str2[:3]}{str1[3:]} {str1[:3]}{str2[3:]}'  \n",
    "\n",
    "string1, string2 = input('Tulis string pertama :'), input('Tulis string kedua :')\n",
    "result = Stringresult(string1, string2)\n",
    "\n",
    "print (f'Hasil nya adalah : {result}') "
   ]
  },
  {
   "cell_type": "code",
   "execution_count": 26,
   "metadata": {},
   "outputs": [
    {
     "name": "stdout",
     "output_type": "stream",
     "text": [
      "Hasilnya adalah : jPKdaA\n"
     ]
    }
   ],
   "source": [
    "def Stringbaru(str1, str2) :\n",
    "    return f'{str1[0]}{str2[0]}{str1[len(str1)//2]}{str2[len(str2)//2]}{str1[-1]}{str2[-1]}'\n",
    "\n",
    "string1, string2 = input('Tulis string pertama :'), input('Tulis string kedua :')\n",
    "result = Stringbaru(string1, string2)\n",
    "\n",
    "print(f'Hasilnya adalah : {result}')\n",
    "\n"
   ]
  },
  {
   "cell_type": "code",
   "execution_count": 23,
   "metadata": {},
   "outputs": [
    {
     "name": "stdout",
     "output_type": "stream",
     "text": [
      "Hasilnya adalah : JC0210DS\n"
     ]
    }
   ],
   "source": [
    "def Appending(str1, str2) :\n",
    "    return f'{str1[:len(str1)//2]}{str2}{str1[len(str1)//2:]}'\n",
    "\n",
    "string1, string2 = input('Tulis string pertama :'), input('Tulis string kedua :')\n",
    "result = Appending(string1, string2)\n",
    "\n",
    "print(f'Hasilnya adalah : {result}')\n"
   ]
  }
 ],
 "metadata": {
  "kernelspec": {
   "display_name": "base",
   "language": "python",
   "name": "python3"
  },
  "language_info": {
   "codemirror_mode": {
    "name": "ipython",
    "version": 3
   },
   "file_extension": ".py",
   "mimetype": "text/x-python",
   "name": "python",
   "nbconvert_exporter": "python",
   "pygments_lexer": "ipython3",
   "version": "3.11.5"
  }
 },
 "nbformat": 4,
 "nbformat_minor": 2
}
