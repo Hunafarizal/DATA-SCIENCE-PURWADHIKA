{
 "cells": [
  {
   "cell_type": "code",
   "execution_count": 18,
   "metadata": {},
   "outputs": [],
   "source": [
    "n = 3\n",
    "\n",
    "\n",
    "if n < 0:\n",
    "    result = None\n",
    "else:\n",
    "    result = 1\n",
    "    for i in range(1, n + 1):\n",
    "        result *= i\n",
    "\n",
    "assert result == 6\n",
    "\n",
    "\n",
    "n = 0\n",
    "\n",
    "\n",
    "if n < 0:\n",
    "    result = None\n",
    "else:\n",
    "    result = 1\n",
    "    for i in range(1, n + 1):\n",
    "        result *= i\n",
    "\n",
    "assert result == 1\n",
    "\n",
    "\n",
    "n = 10\n",
    "\n",
    "\n",
    "if n < 0:\n",
    "    result = None\n",
    "else:\n",
    "    result = 1\n",
    "    for i in range(1, n + 1):\n",
    "        result *= i\n",
    "\n",
    "assert result == 3628800\n",
    "\n",
    "\n",
    "n = -10\n",
    "\n",
    "\n",
    "if n < 0:\n",
    "    result = None\n",
    "else:\n",
    "    result = 1\n",
    "    for i in range(1, n + 1):\n",
    "        result *= i\n",
    "\n",
    "assert result == None\n",
    "\n"
   ]
  },
  {
   "cell_type": "code",
   "execution_count": 8,
   "metadata": {},
   "outputs": [],
   "source": [
    "\n"
   ]
  }
 ],
 "metadata": {
  "kernelspec": {
   "display_name": "base",
   "language": "python",
   "name": "python3"
  },
  "language_info": {
   "codemirror_mode": {
    "name": "ipython",
    "version": 3
   },
   "file_extension": ".py",
   "mimetype": "text/x-python",
   "name": "python",
   "nbconvert_exporter": "python",
   "pygments_lexer": "ipython3",
   "version": "3.11.5"
  }
 },
 "nbformat": 4,
 "nbformat_minor": 2
}
