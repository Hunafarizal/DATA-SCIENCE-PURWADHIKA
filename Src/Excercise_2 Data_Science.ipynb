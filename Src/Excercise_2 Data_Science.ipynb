{
 "cells": [
  {
   "cell_type": "code",
   "execution_count": 1,
   "metadata": {},
   "outputs": [
    {
     "name": "stdout",
     "output_type": "stream",
     "text": [
      "Appeared 3 times\n"
     ]
    }
   ],
   "source": [
    "spam = 'ababaababbbbcccbabcc'\n",
    "word = 'bab'\n",
    "\n",
    "count = spam.count(word)\n",
    "\n",
    "output = f'Appeared {count} times'\n",
    "\n",
    "print(output)\n"
   ]
  },
  {
   "cell_type": "code",
   "execution_count": 5,
   "metadata": {},
   "outputs": [
    {
     "name": "stdout",
     "output_type": "stream",
     "text": [
      "False\n"
     ]
    }
   ],
   "source": [
    "\n",
    "spam = 'oOxxX'\n",
    "o = spam.count('o')\n",
    "x = spam.count('x')\n",
    "\n",
    "if o == x :\n",
    "    print('True')\n",
    "else :\n",
    "    print('False')"
   ]
  },
  {
   "cell_type": "code",
   "execution_count": 26,
   "metadata": {},
   "outputs": [
    {
     "name": "stdout",
     "output_type": "stream",
     "text": [
      "153 is narcissistic number\n"
     ]
    }
   ],
   "source": [
    "spam = 153\n",
    "\n",
    "spam_str = str(spam)\n",
    "\n",
    "power = len(spam_str)\n",
    "\n",
    "result = 0\n",
    "\n",
    "for number in spam_str :\n",
    "    \n",
    "    result += int(number) ** power\n",
    "    if result == spam :\n",
    "        print(f'{spam} is narcissistic number') \n",
    "    else : \n",
    "        None"
   ]
  },
  {
   "cell_type": "code",
   "execution_count": 47,
   "metadata": {},
   "outputs": [
    {
     "name": "stdout",
     "output_type": "stream",
     "text": [
      "1 2 Fizz 4 Buzz Fizz 7 8 Fizz Buzz 11 Fizz 13 14 FizzBuzz 16 17 Fizz 19 Buzz Fizz 22 23 Fizz Buzz 26 Fizz 28 29 FizzBuzz 31 32 Fizz 34 Buzz "
     ]
    }
   ],
   "source": [
    "upTo = 36\n",
    "\n",
    "for number in range(1, upTo):\n",
    "    if number % 3 == 0 and number % 5 == 0:\n",
    "        print('FizzBuzz', end=' ')\n",
    "    elif number % 3 == 0:\n",
    "        print('Fizz', end=' ')\n",
    "    elif number % 5 == 0:\n",
    "        print('Buzz', end=' ')\n",
    "    else:\n",
    "        print(number, end=' ')\n"
   ]
  },
  {
   "cell_type": "code",
   "execution_count": 2,
   "metadata": {},
   "outputs": [
    {
     "name": "stdout",
     "output_type": "stream",
     "text": [
      "The Fox and dog.\n"
     ]
    }
   ],
   "source": [
    "text = 'The Fox and fox.'\n",
    "oldtext = 'fox'\n",
    "newtext = 'dog'\n",
    "\n",
    "modifiedtext = text.replace(oldtext, newtext)\n",
    "\n",
    "print(modifiedtext)\n"
   ]
  },
  {
   "cell_type": "code",
   "execution_count": 4,
   "metadata": {},
   "outputs": [
    {
     "name": "stdout",
     "output_type": "stream",
     "text": [
      "26, 13, 40, 20, 10, 5, 16, 8, 4, 2, 1\n"
     ]
    }
   ],
   "source": [
    "while True:\n",
    "    user_input = input(\"Enter a starting number (greater than 0) or QUIT: \")\n",
    "\n",
    "    if user_input.upper() == 'QUIT':\n",
    "        break\n",
    "\n",
    "    try:\n",
    "        n = int(user_input)\n",
    "        if n <= 0:\n",
    "            print(\"Please enter a number greater than 0.\")\n",
    "        else:\n",
    "            sequence = [n]\n",
    "            while n != 1:\n",
    "                if n % 2 == 0:\n",
    "                    n = n // 2\n",
    "                else:\n",
    "                    n = n * 3 + 1\n",
    "                sequence.append(n)\n",
    "\n",
    "            print(', '.join(map(str, sequence)))\n",
    "\n",
    "    except ValueError:\n",
    "        print(\"Invalid input. Please enter a valid number or QUIT.\")\n"
   ]
  },
  {
   "cell_type": "code",
   "execution_count": 1,
   "metadata": {},
   "outputs": [
    {
     "name": "stdout",
     "output_type": "stream",
     "text": [
      "0, 1, 1, 2, 3, 5, 8, 13, 21, 34\n",
      "Invalid input. Please enter a valid number or QUIT.\n"
     ]
    }
   ],
   "source": [
    "while True:\n",
    "    user_input = input(\"Enter the Nth Fibonacci number you wish to calculate or QUIT to quit: \")\n",
    "\n",
    "    if user_input.upper() == 'QUIT':\n",
    "        break\n",
    "\n",
    "    try:\n",
    "        n = int(user_input)\n",
    "\n",
    "        if n < 1:\n",
    "            print(\"Please enter a positive integer.\")\n",
    "        elif n >= 100:\n",
    "            print(\"Warning: Calculating Fibonacci numbers for large N may take some time. Press CTRL-C to terminate.\")\n",
    "    # untuk opsi terminate CTRL-C nya sudah saya coba namun tidak bisa. setelah saya konsultasi dengan google, ternyata ada beberapa kondisi dimana\n",
    "    # opsi tersebut tidak bekerja jika menggunakan Jupyter notebook\n",
    "            fib_sequence = [0, 1]\n",
    "            while len(fib_sequence) < n:\n",
    "                fib_sequence.append(fib_sequence[-1] + fib_sequence[-2])\n",
    "            print(', '.join(map(str, fib_sequence[:n])))\n",
    "        else:\n",
    "            fib_sequence = [0, 1]\n",
    "            while len(fib_sequence) < n:\n",
    "                fib_sequence.append(fib_sequence[-1] + fib_sequence[-2])\n",
    "            print(', '.join(map(str, fib_sequence[:n])))\n",
    "\n",
    "    except ValueError:\n",
    "        print(\"Invalid input. Please enter a valid number or QUIT.\")\n"
   ]
  },
  {
   "cell_type": "code",
   "execution_count": 5,
   "metadata": {},
   "outputs": [
    {
     "name": "stdout",
     "output_type": "stream",
     "text": [
      "Key #0: QIIX QI FC XLI VSWI FYWLIW XSRMKLX\n",
      "Key #1: PHHW PH EB WKH URVH EXVKHV WRQLJKW\n",
      "Key #2: OGGV OG DA VJG TQUG DWUJGU VQPKIJV\n",
      "Key #3: NFFU NF CZ UIF SPTF CVTIFT UPOJHIU\n",
      "Key #4: MEET ME BY THE ROSE BUSHES TONIGHT\n",
      "Key #5: LDDS LD AX SGD QNRD ATRGDR SNMHFGS\n",
      "Key #6: KCCR KC ZW RFC PMQC ZSQFCQ RMLGEFR\n",
      "Key #7: JBBQ JB YV QEB OLPB YRPEBP QLKFDEQ\n",
      "Key #8: IAAP IA XU PDA NKOA XQODAO PKJECDP\n",
      "Key #9: HZZO HZ WT OCZ MJNZ WPNCZN OJIDBCO\n",
      "Key #10: GYYN GY VS NBY LIMY VOMBYM NIHCABN\n",
      "Key #11: FXXM FX UR MAX KHLX UNLAXL MHGBZAM\n",
      "Key #12: EWWL EW TQ LZW JGKW TMKZWK LGFAYZL\n",
      "Key #13: DVVK DV SP KYV IFJV SLJYVJ KFEZXYK\n",
      "Key #14: CUUJ CU RO JXU HEIU RKIXUI JEDYWXJ\n",
      "Key #15: BTTI BT QN IWT GDHT QJHWTH IDCXVWI\n",
      "Key #16: ASSH AS PM HVS FCGS PIGVSG HCBWUVH\n",
      "Key #17: ZRRG ZR OL GUR EBFR OHFURF GBAVTUG\n",
      "Key #18: YQQF YQ NK FTQ DAEQ NGETQE FAZUSTF\n",
      "Key #19: XPPE XP MJ ESP CZDP MFDSPD EZYTRSE\n",
      "Key #20: WOOD WO LI DRO BYCO LECROC DYXSQRD\n",
      "Key #21: VNNC VN KH CQN AXBN KDBQNB CXWRPQC\n",
      "Key #22: UMMB UM JG BPM ZWAM JCAPMA BWVQOPB\n",
      "Key #23: TLLA TL IF AOL YVZL IBZOLZ AVUPNOA\n",
      "Key #24: SKKZ SK HE ZNK XUYK HAYNKY ZUTOMNZ\n",
      "Key #25: RJJY RJ GD YMJ WTXJ GZXMJX YTSNLMY\n"
     ]
    }
   ],
   "source": [
    "\n",
    "encrypted_message = input(\"Enter the message to hack: \")\n",
    "\n",
    "for key in range(26):\n",
    "    decrypted_message = ''\n",
    "    for char in encrypted_message:\n",
    "        if char.isalpha():\n",
    "            is_upper = char.isupper()\n",
    "            char = chr((ord(char) - key - ord('A' if is_upper else 'a')) % 26 + ord('A' if is_upper else 'a'))\n",
    "        decrypted_message += char\n",
    "\n",
    "    print(f\"Key #{key}: {decrypted_message}\")\n"
   ]
  }
 ],
 "metadata": {
  "kernelspec": {
   "display_name": "base",
   "language": "python",
   "name": "python3"
  },
  "language_info": {
   "codemirror_mode": {
    "name": "ipython",
    "version": 3
   },
   "file_extension": ".py",
   "mimetype": "text/x-python",
   "name": "python",
   "nbconvert_exporter": "python",
   "pygments_lexer": "ipython3",
   "version": "3.11.5"
  }
 },
 "nbformat": 4,
 "nbformat_minor": 2
}
